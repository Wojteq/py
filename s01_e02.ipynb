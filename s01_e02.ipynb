{
 "cells": [
  {
   "cell_type": "markdown",
   "metadata": {},
   "source": [
    "## Koło programistyczne - 20.11.2017 - spotkanie 2"
   ]
  },
  {
   "cell_type": "markdown",
   "metadata": {},
   "source": [
    "### Krótka powtórka"
   ]
  },
  {
   "cell_type": "code",
   "execution_count": 1,
   "metadata": {
    "collapsed": true
   },
   "outputs": [],
   "source": [
    "#krótkie przypomnienie ze spotkania 1: do zmiennych przypisujemy dowolne wartości, na przykład liczby:\n",
    "liczba = 50"
   ]
  },
  {
   "cell_type": "code",
   "execution_count": 2,
   "metadata": {},
   "outputs": [
    {
     "data": {
      "text/plain": [
       "50"
      ]
     },
     "execution_count": 2,
     "metadata": {},
     "output_type": "execute_result"
    }
   ],
   "source": [
    "liczba"
   ]
  },
  {
   "cell_type": "code",
   "execution_count": 5,
   "metadata": {},
   "outputs": [
    {
     "data": {
      "text/plain": [
       "int"
      ]
     },
     "execution_count": 5,
     "metadata": {},
     "output_type": "execute_result"
    }
   ],
   "source": [
    "#int (od ang. integer) - liczba całkowita (bez miejsc dziesiętnych)\n",
    "type(liczba)"
   ]
  },
  {
   "cell_type": "code",
   "execution_count": 6,
   "metadata": {
    "collapsed": true
   },
   "outputs": [],
   "source": [
    "tekst = 'Kazio'"
   ]
  },
  {
   "cell_type": "code",
   "execution_count": 7,
   "metadata": {},
   "outputs": [
    {
     "data": {
      "text/plain": [
       "'Kazio'"
      ]
     },
     "execution_count": 7,
     "metadata": {},
     "output_type": "execute_result"
    }
   ],
   "source": [
    "tekst"
   ]
  },
  {
   "cell_type": "code",
   "execution_count": 8,
   "metadata": {},
   "outputs": [
    {
     "data": {
      "text/plain": [
       "str"
      ]
     },
     "execution_count": 8,
     "metadata": {},
     "output_type": "execute_result"
    }
   ],
   "source": [
    "#str (ang. string) - tekst\n",
    "type(tekst)"
   ]
  },
  {
   "cell_type": "code",
   "execution_count": 9,
   "metadata": {
    "collapsed": true
   },
   "outputs": [],
   "source": [
    "pi = 3.14159265359"
   ]
  },
  {
   "cell_type": "code",
   "execution_count": 10,
   "metadata": {},
   "outputs": [
    {
     "data": {
      "text/plain": [
       "3.14159265359"
      ]
     },
     "execution_count": 10,
     "metadata": {},
     "output_type": "execute_result"
    }
   ],
   "source": [
    "pi"
   ]
  },
  {
   "cell_type": "code",
   "execution_count": 11,
   "metadata": {},
   "outputs": [
    {
     "data": {
      "text/plain": [
       "float"
      ]
     },
     "execution_count": 11,
     "metadata": {},
     "output_type": "execute_result"
    }
   ],
   "source": [
    "#float - liczba rzeczywista (z miejscami dziesiętnymi)\n",
    "type(pi)"
   ]
  },
  {
   "cell_type": "code",
   "execution_count": 12,
   "metadata": {
    "collapsed": true
   },
   "outputs": [],
   "source": [
    "#metoda format - zgrabny sposób wklejania informacji z zewnątrz:\n",
    "#zarówno tych tekstowych, jak i takich nietekstowych\n",
    "# {} - informacja dla Pythona - tutaj będzie element z zewnątrz\n",
    "o_mnie = 'Jestem {} i bardzo lubię liczbę pi, która wynosi {}'.format(tekst, pi)"
   ]
  },
  {
   "cell_type": "code",
   "execution_count": 13,
   "metadata": {},
   "outputs": [
    {
     "data": {
      "text/plain": [
       "'Jestem Kazio i bardzo lubię liczbę pi, która wynosi 3.14159265359'"
      ]
     },
     "execution_count": 13,
     "metadata": {},
     "output_type": "execute_result"
    }
   ],
   "source": [
    "o_mnie"
   ]
  },
  {
   "cell_type": "markdown",
   "metadata": {},
   "source": [
    "##### O tym nie mówiłem!!"
   ]
  },
  {
   "cell_type": "code",
   "execution_count": 14,
   "metadata": {
    "collapsed": true
   },
   "outputs": [],
   "source": [
    "#bool (ang. boolean) - typ logiczny - przyjmuje tylko wartości True/False\n",
    "#O nim powiemy sobie więcej przy okazji nauki warunków.\n",
    "prawda = True\n",
    "falsz = False"
   ]
  },
  {
   "cell_type": "code",
   "execution_count": 15,
   "metadata": {},
   "outputs": [
    {
     "data": {
      "text/plain": [
       "bool"
      ]
     },
     "execution_count": 15,
     "metadata": {},
     "output_type": "execute_result"
    }
   ],
   "source": [
    "type(prawda)"
   ]
  },
  {
   "cell_type": "markdown",
   "metadata": {},
   "source": [
    "### Do nowych rzeczy przechodząc:"
   ]
  },
  {
   "cell_type": "markdown",
   "metadata": {},
   "source": [
    "### LISTY"
   ]
  },
  {
   "cell_type": "code",
   "execution_count": 16,
   "metadata": {},
   "outputs": [
    {
     "data": {
      "text/plain": [
       "[]"
      ]
     },
     "execution_count": 16,
     "metadata": {},
     "output_type": "execute_result"
    }
   ],
   "source": [
    "#standardowo tworzymy listę przez użycie []\n",
    "[]"
   ]
  },
  {
   "cell_type": "code",
   "execution_count": 17,
   "metadata": {},
   "outputs": [
    {
     "data": {
      "text/plain": [
       "[]"
      ]
     },
     "execution_count": 17,
     "metadata": {},
     "output_type": "execute_result"
    }
   ],
   "source": [
    "#możemy stworzyć listę przez użycie funkcji list(), natomiast służy to przede wszystkim do tworzenia list pustych.\n",
    "list()"
   ]
  },
  {
   "cell_type": "code",
   "execution_count": 18,
   "metadata": {
    "collapsed": true
   },
   "outputs": [],
   "source": [
    "moja_lista = ['Samsung', 'Huawei', 'Xiaomi']"
   ]
  },
  {
   "cell_type": "code",
   "execution_count": 19,
   "metadata": {},
   "outputs": [
    {
     "name": "stdout",
     "output_type": "stream",
     "text": [
      "['Samsung', 'Huawei', 'Xiaomi']\n"
     ]
    }
   ],
   "source": [
    "print(moja_lista)"
   ]
  },
  {
   "cell_type": "code",
   "execution_count": 20,
   "metadata": {
    "collapsed": true
   },
   "outputs": [],
   "source": [
    "aj = 'Apple'"
   ]
  },
  {
   "cell_type": "code",
   "execution_count": 21,
   "metadata": {
    "collapsed": true
   },
   "outputs": [],
   "source": [
    "#lista może zawierać zmienne\n",
    "moja_lista2 = ['Samsung', 'Huawei', 'Xiaomi', aj]"
   ]
  },
  {
   "cell_type": "code",
   "execution_count": 22,
   "metadata": {},
   "outputs": [
    {
     "data": {
      "text/plain": [
       "['Samsung', 'Huawei', 'Xiaomi', 'Apple']"
      ]
     },
     "execution_count": 22,
     "metadata": {},
     "output_type": "execute_result"
    }
   ],
   "source": [
    "moja_lista2"
   ]
  },
  {
   "cell_type": "code",
   "execution_count": 23,
   "metadata": {
    "collapsed": true
   },
   "outputs": [],
   "source": [
    "niemoja_lista = ['Polonez', 'Trabant', 'Warszawa']"
   ]
  },
  {
   "cell_type": "code",
   "execution_count": 24,
   "metadata": {
    "collapsed": true
   },
   "outputs": [],
   "source": [
    "#co się wydarzy jeśli dodamy do siebie dwie listy?\n",
    "lista = moja_lista2 + niemoja_lista"
   ]
  },
  {
   "cell_type": "code",
   "execution_count": 25,
   "metadata": {},
   "outputs": [
    {
     "name": "stdout",
     "output_type": "stream",
     "text": [
      "['Samsung', 'Huawei', 'Xiaomi', 'Apple', 'Polonez', 'Trabant', 'Warszawa']\n"
     ]
    }
   ],
   "source": [
    "print(lista)"
   ]
  },
  {
   "cell_type": "code",
   "execution_count": 26,
   "metadata": {},
   "outputs": [
    {
     "data": {
      "text/plain": [
       "'Huawei'"
      ]
     },
     "execution_count": 26,
     "metadata": {},
     "output_type": "execute_result"
    }
   ],
   "source": [
    "#pierwszy element z listy\n",
    "lista[1]"
   ]
  },
  {
   "cell_type": "code",
   "execution_count": 27,
   "metadata": {},
   "outputs": [
    {
     "data": {
      "text/plain": [
       "'Samsung'"
      ]
     },
     "execution_count": 27,
     "metadata": {},
     "output_type": "execute_result"
    }
   ],
   "source": [
    "# W Pythonie indeksujemy od zera - tam jest nasz pierwszy element:\n",
    "lista[0]"
   ]
  },
  {
   "cell_type": "code",
   "execution_count": 28,
   "metadata": {},
   "outputs": [
    {
     "data": {
      "text/plain": [
       "['Samsung', 'Huawei', 'Xiaomi']"
      ]
     },
     "execution_count": 28,
     "metadata": {},
     "output_type": "execute_result"
    }
   ],
   "source": [
    "#Weźmy tylko marki telefonów:\n",
    "lista[0:3]"
   ]
  },
  {
   "cell_type": "code",
   "execution_count": 29,
   "metadata": {},
   "outputs": [
    {
     "data": {
      "text/plain": [
       "['Samsung', 'Huawei', 'Xiaomi', 'Apple']"
      ]
     },
     "execution_count": 29,
     "metadata": {},
     "output_type": "execute_result"
    }
   ],
   "source": [
    "#W Pythonie, jeśli wybieramy zakres wartości, to ostatni element nie jest brany pod uwagę!\n",
    "lista[0:4]"
   ]
  },
  {
   "cell_type": "code",
   "execution_count": 30,
   "metadata": {},
   "outputs": [
    {
     "data": {
      "text/plain": [
       "'S'"
      ]
     },
     "execution_count": 30,
     "metadata": {},
     "output_type": "execute_result"
    }
   ],
   "source": [
    "# Możemy indeksować nie tylko listy, ale również na przykład tekst\n",
    "lista[0][0]"
   ]
  },
  {
   "cell_type": "code",
   "execution_count": 31,
   "metadata": {
    "collapsed": true
   },
   "outputs": [],
   "source": [
    "jakis_tekst = 'Jestem wesoły romek'"
   ]
  },
  {
   "cell_type": "code",
   "execution_count": 32,
   "metadata": {},
   "outputs": [
    {
     "data": {
      "text/plain": [
       "'Jestem'"
      ]
     },
     "execution_count": 32,
     "metadata": {},
     "output_type": "execute_result"
    }
   ],
   "source": [
    "jakis_tekst[0:6]"
   ]
  },
  {
   "cell_type": "code",
   "execution_count": 33,
   "metadata": {},
   "outputs": [
    {
     "data": {
      "text/plain": [
       "'Sams'"
      ]
     },
     "execution_count": 33,
     "metadata": {},
     "output_type": "execute_result"
    }
   ],
   "source": [
    "lista[0][0:4]"
   ]
  },
  {
   "cell_type": "code",
   "execution_count": 34,
   "metadata": {
    "collapsed": true
   },
   "outputs": [],
   "source": [
    "#Witamy w barze mlecznym Karaluch!\n",
    "ruskie = 4.50\n",
    "ziemniaki = 2.35\n",
    "surowka = 2.15\n",
    "nalesniki = 7.50\n",
    "kompot = 2.00\n",
    "kotlet = 8.50\n",
    "pomidorowa = 2.35\n",
    "wodka_spod_lady = 4.00\n",
    "leniwe = 3.90\n",
    "kasza = 2.25"
   ]
  },
  {
   "cell_type": "code",
   "execution_count": 35,
   "metadata": {
    "collapsed": true
   },
   "outputs": [],
   "source": [
    "ceny = [ruskie, ziemniaki, surowka, nalesniki, kompot, kotlet, pomidorowa, wodka_spod_lady, leniwe, kasza]"
   ]
  },
  {
   "cell_type": "code",
   "execution_count": 36,
   "metadata": {},
   "outputs": [
    {
     "name": "stdout",
     "output_type": "stream",
     "text": [
      "[4.5, 2.35, 2.15, 7.5, 2.0, 8.5, 2.35, 4.0, 3.9, 2.25]\n"
     ]
    }
   ],
   "source": [
    "print(ceny)"
   ]
  },
  {
   "cell_type": "code",
   "execution_count": 37,
   "metadata": {
    "collapsed": true
   },
   "outputs": [],
   "source": [
    "#Mocna strona list - może zawierać różne typy zmiennych. Tutaj tekst miesza się z liczbami rzeczywistymi.\n",
    "menu = ['ruskie', ruskie,\n",
    "        'ziemniaki', ziemniaki,\n",
    "        'surowka', surowka,\n",
    "        'nalesniki', nalesniki,\n",
    "        'kompot', kompot,\n",
    "       'kotlet', kotlet,\n",
    "       'pomidorowa', pomidorowa,\n",
    "       'wódka spod lady', wodka_spod_lady,\n",
    "       'leniwe', leniwe,\n",
    "       'kasza', kasza]"
   ]
  },
  {
   "cell_type": "code",
   "execution_count": 38,
   "metadata": {},
   "outputs": [
    {
     "data": {
      "text/plain": [
       "['ruskie',\n",
       " 4.5,\n",
       " 'ziemniaki',\n",
       " 2.35,\n",
       " 'surowka',\n",
       " 2.15,\n",
       " 'nalesniki',\n",
       " 7.5,\n",
       " 'kompot',\n",
       " 2.0,\n",
       " 'kotlet',\n",
       " 8.5,\n",
       " 'pomidorowa',\n",
       " 2.35,\n",
       " 'wódka spod lady',\n",
       " 4.0,\n",
       " 'leniwe',\n",
       " 3.9,\n",
       " 'kasza',\n",
       " 2.25]"
      ]
     },
     "execution_count": 38,
     "metadata": {},
     "output_type": "execute_result"
    }
   ],
   "source": [
    "menu"
   ]
  },
  {
   "cell_type": "code",
   "execution_count": 39,
   "metadata": {
    "collapsed": true
   },
   "outputs": [],
   "source": [
    "#Lista może składać się z wielu list:\n",
    "menu = [\n",
    "    ['ruskie', ruskie],\n",
    "    ['ziemniaki', ziemniaki],\n",
    "    ['surowka', surowka],\n",
    "    ['nalesniki', nalesniki],\n",
    "    ['kompot', kompot],\n",
    "    ['kotlet', kotlet],\n",
    "    ['pomidorowa', pomidorowa],\n",
    "    ['wódka spod lady', wodka_spod_lady],\n",
    "    ['leniwe', leniwe],\n",
    "    ['kasza', kasza]   \n",
    "]"
   ]
  },
  {
   "cell_type": "code",
   "execution_count": 40,
   "metadata": {},
   "outputs": [
    {
     "data": {
      "text/plain": [
       "[['ruskie', 4.5],\n",
       " ['ziemniaki', 2.35],\n",
       " ['surowka', 2.15],\n",
       " ['nalesniki', 7.5],\n",
       " ['kompot', 2.0],\n",
       " ['kotlet', 8.5],\n",
       " ['pomidorowa', 2.35],\n",
       " ['wódka spod lady', 4.0],\n",
       " ['leniwe', 3.9],\n",
       " ['kasza', 2.25]]"
      ]
     },
     "execution_count": 40,
     "metadata": {},
     "output_type": "execute_result"
    }
   ],
   "source": [
    "menu"
   ]
  },
  {
   "cell_type": "code",
   "execution_count": 41,
   "metadata": {},
   "outputs": [
    {
     "data": {
      "text/plain": [
       "list"
      ]
     },
     "execution_count": 41,
     "metadata": {},
     "output_type": "execute_result"
    }
   ],
   "source": [
    "type(menu)"
   ]
  },
  {
   "cell_type": "code",
   "execution_count": 42,
   "metadata": {},
   "outputs": [
    {
     "name": "stdout",
     "output_type": "stream",
     "text": [
      "['ziemniaki', 2.35]\n"
     ]
    }
   ],
   "source": [
    "print(menu[1])"
   ]
  },
  {
   "cell_type": "code",
   "execution_count": 43,
   "metadata": {},
   "outputs": [
    {
     "data": {
      "text/plain": [
       "['kasza', 2.25]"
      ]
     },
     "execution_count": 43,
     "metadata": {},
     "output_type": "execute_result"
    }
   ],
   "source": [
    "#Możemy też indeksować od końca - w tym miejscu bierzemy pierwszy element od końca.\n",
    "menu[-1]"
   ]
  },
  {
   "cell_type": "code",
   "execution_count": 44,
   "metadata": {},
   "outputs": [],
   "source": [
    "#mam dzisiaj ochotę na ruskie i surówkę - ile zapłacę?\n",
    "ile_place = menu[0][1] + menu[2][1]"
   ]
  },
  {
   "cell_type": "code",
   "execution_count": 45,
   "metadata": {},
   "outputs": [
    {
     "data": {
      "text/plain": [
       "6.65"
      ]
     },
     "execution_count": 45,
     "metadata": {},
     "output_type": "execute_result"
    }
   ],
   "source": [
    "ile_place"
   ]
  },
  {
   "cell_type": "code",
   "execution_count": 46,
   "metadata": {},
   "outputs": [],
   "source": [
    "#Wybieramy pierwszych pięć elementów z listy - pamiętamy, że Python nie bierze elementu ostatniego!\n",
    "#To zapewne będzie na początku mało intuicyjne:\n",
    "#mówimy, że chcemy 5 elementów, ale wpisujemy kod, który nie bierze elementu 5. Pamiętajcie jednak:\n",
    "#zaczynając od zera: 0 1 2 3 4 5 - element 5 to de facto szósty element na liście!!!\n",
    "\n",
    "menuWieczorne = menu[0:5]"
   ]
  },
  {
   "cell_type": "code",
   "execution_count": 47,
   "metadata": {},
   "outputs": [
    {
     "data": {
      "text/plain": [
       "[['ruskie', 4.5],\n",
       " ['ziemniaki', 2.35],\n",
       " ['surowka', 2.15],\n",
       " ['nalesniki', 7.5],\n",
       " ['kompot', 2.0]]"
      ]
     },
     "execution_count": 47,
     "metadata": {},
     "output_type": "execute_result"
    }
   ],
   "source": [
    "#zauważcie, że możemy sobie darować wpisywanie tego zera - [:5] mówi: weź od początku do elementu 5 (ale bez niego)\n",
    "menu[:5]"
   ]
  },
  {
   "cell_type": "code",
   "execution_count": 48,
   "metadata": {},
   "outputs": [
    {
     "data": {
      "text/plain": [
       "[['ruskie', 4.5],\n",
       " ['ziemniaki', 2.35],\n",
       " ['surowka', 2.15],\n",
       " ['nalesniki', 7.5],\n",
       " ['kompot', 2.0]]"
      ]
     },
     "execution_count": 48,
     "metadata": {},
     "output_type": "execute_result"
    }
   ],
   "source": [
    "menuWieczorne"
   ]
  },
  {
   "cell_type": "code",
   "execution_count": 49,
   "metadata": {
    "collapsed": true
   },
   "outputs": [],
   "source": [
    "#Weź mi wszystkie elementy od szóstego (czyli takiego, który ma numer indeksu 5!) do końca\n",
    "menuPoranne = menu[5:]"
   ]
  },
  {
   "cell_type": "code",
   "execution_count": 50,
   "metadata": {},
   "outputs": [
    {
     "data": {
      "text/plain": [
       "[['kotlet', 8.5],\n",
       " ['pomidorowa', 2.35],\n",
       " ['wódka spod lady', 4.0],\n",
       " ['leniwe', 3.9],\n",
       " ['kasza', 2.25]]"
      ]
     },
     "execution_count": 50,
     "metadata": {},
     "output_type": "execute_result"
    }
   ],
   "source": [
    "menuPoranne"
   ]
  },
  {
   "cell_type": "code",
   "execution_count": 51,
   "metadata": {
    "collapsed": true
   },
   "outputs": [],
   "source": [
    "#nasz bar mleczny Karaluch idzie w stronę vege-eko - zamiast kotleta, kotlet sojowy. a wódka kosztuje już 6zł\n",
    "#przewaga list - możemy zmieniać w środku wartości.\n",
    "menu[5][0] = 'kotlet sojowy'"
   ]
  },
  {
   "cell_type": "code",
   "execution_count": 52,
   "metadata": {},
   "outputs": [
    {
     "data": {
      "text/plain": [
       "'kotlet sojowy'"
      ]
     },
     "execution_count": 52,
     "metadata": {},
     "output_type": "execute_result"
    }
   ],
   "source": [
    "menu[5][0]"
   ]
  },
  {
   "cell_type": "code",
   "execution_count": 53,
   "metadata": {
    "collapsed": true
   },
   "outputs": [],
   "source": [
    "menu[-3][-1] = 6.0"
   ]
  },
  {
   "cell_type": "code",
   "execution_count": 54,
   "metadata": {},
   "outputs": [
    {
     "data": {
      "text/plain": [
       "[['ruskie', 4.5],\n",
       " ['ziemniaki', 2.35],\n",
       " ['surowka', 2.15],\n",
       " ['nalesniki', 7.5],\n",
       " ['kompot', 2.0],\n",
       " ['kotlet sojowy', 8.5],\n",
       " ['pomidorowa', 2.35],\n",
       " ['wódka spod lady', 6.0],\n",
       " ['leniwe', 3.9],\n",
       " ['kasza', 2.25]]"
      ]
     },
     "execution_count": 54,
     "metadata": {},
     "output_type": "execute_result"
    }
   ],
   "source": [
    "menu"
   ]
  },
  {
   "cell_type": "code",
   "execution_count": 55,
   "metadata": {},
   "outputs": [
    {
     "data": {
      "text/plain": [
       "10"
      ]
     },
     "execution_count": 55,
     "metadata": {},
     "output_type": "execute_result"
    }
   ],
   "source": [
    "# ile pozycji jest naszym menu?\n",
    "len(menu)"
   ]
  },
  {
   "cell_type": "code",
   "execution_count": 56,
   "metadata": {
    "collapsed": true
   },
   "outputs": [],
   "source": [
    "ceny2 = [5.45, 9.15, 10.30, 4.50, 1.20, 3.30]"
   ]
  },
  {
   "cell_type": "code",
   "execution_count": 57,
   "metadata": {
    "collapsed": true
   },
   "outputs": [],
   "source": [
    "ceny3 = ceny + ceny2"
   ]
  },
  {
   "cell_type": "code",
   "execution_count": 58,
   "metadata": {},
   "outputs": [
    {
     "data": {
      "text/plain": [
       "[4.5,\n",
       " 2.35,\n",
       " 2.15,\n",
       " 7.5,\n",
       " 2.0,\n",
       " 8.5,\n",
       " 2.35,\n",
       " 4.0,\n",
       " 3.9,\n",
       " 2.25,\n",
       " 5.45,\n",
       " 9.15,\n",
       " 10.3,\n",
       " 4.5,\n",
       " 1.2,\n",
       " 3.3]"
      ]
     },
     "execution_count": 58,
     "metadata": {},
     "output_type": "execute_result"
    }
   ],
   "source": [
    "ceny3"
   ]
  },
  {
   "cell_type": "markdown",
   "metadata": {},
   "source": [
    "#### Dwa sposoby szukania pomocy w Notebooku"
   ]
  },
  {
   "cell_type": "code",
   "execution_count": 59,
   "metadata": {
    "collapsed": true
   },
   "outputs": [],
   "source": [
    "?sorted"
   ]
  },
  {
   "cell_type": "code",
   "execution_count": 60,
   "metadata": {},
   "outputs": [
    {
     "name": "stdout",
     "output_type": "stream",
     "text": [
      "Help on built-in function sorted in module builtins:\n",
      "\n",
      "sorted(iterable, /, *, key=None, reverse=False)\n",
      "    Return a new list containing all items from the iterable in ascending order.\n",
      "    \n",
      "    A custom key function can be supplied to customize the sort order, and the\n",
      "    reverse flag can be set to request the result in descending order.\n",
      "\n"
     ]
    }
   ],
   "source": [
    "help(sorted)"
   ]
  },
  {
   "cell_type": "code",
   "execution_count": 61,
   "metadata": {},
   "outputs": [
    {
     "data": {
      "text/plain": [
       "[1.2,\n",
       " 2.0,\n",
       " 2.15,\n",
       " 2.25,\n",
       " 2.35,\n",
       " 2.35,\n",
       " 3.3,\n",
       " 3.9,\n",
       " 4.0,\n",
       " 4.5,\n",
       " 4.5,\n",
       " 5.45,\n",
       " 7.5,\n",
       " 8.5,\n",
       " 9.15,\n",
       " 10.3]"
      ]
     },
     "execution_count": 61,
     "metadata": {},
     "output_type": "execute_result"
    }
   ],
   "source": [
    "#sortowanie nie działa w miejscu - efekt tej funkcji musimy zapisać do zmiennej.\n",
    "sorted(ceny3)"
   ]
  },
  {
   "cell_type": "code",
   "execution_count": 62,
   "metadata": {
    "collapsed": true
   },
   "outputs": [],
   "source": [
    "posortowane = sorted(ceny3)"
   ]
  },
  {
   "cell_type": "code",
   "execution_count": 63,
   "metadata": {
    "collapsed": true
   },
   "outputs": [],
   "source": [
    "#do funkcji sortowania możemy dodać nieobowiązkowy argument reverse (domyślnie przyjmuje on wartość False);\n",
    "#wpisanie tutaj True sprawi, że będziemy sortować malejąco\n",
    "sort_malejaco = sorted(ceny3, reverse=True)"
   ]
  },
  {
   "cell_type": "code",
   "execution_count": 64,
   "metadata": {},
   "outputs": [
    {
     "data": {
      "text/plain": [
       "[10.3,\n",
       " 9.15,\n",
       " 8.5,\n",
       " 7.5,\n",
       " 5.45,\n",
       " 4.5,\n",
       " 4.5,\n",
       " 4.0,\n",
       " 3.9,\n",
       " 3.3,\n",
       " 2.35,\n",
       " 2.35,\n",
       " 2.25,\n",
       " 2.15,\n",
       " 2.0,\n",
       " 1.2]"
      ]
     },
     "execution_count": 64,
     "metadata": {},
     "output_type": "execute_result"
    }
   ],
   "source": [
    "sort_malejaco"
   ]
  },
  {
   "cell_type": "markdown",
   "metadata": {},
   "source": [
    "## METODY"
   ]
  },
  {
   "cell_type": "markdown",
   "metadata": {},
   "source": [
    "#### Metody to swego rodzaju funkcje, które odpalamy na konkretnej zmiennnej. Każdy typ danych ma swoje metody. Niektóre z nich działają w miejscu, czyli zmieniają zmienną bez konieczności zapisywania efektu takiej operacji do nowej zmiennej."
   ]
  },
  {
   "cell_type": "code",
   "execution_count": 65,
   "metadata": {
    "collapsed": true
   },
   "outputs": [],
   "source": [
    "#Co to za krzyk rozpaczy bez wielkich liter?\n",
    "rozpacz = 'To jest krzyk rozpaczy!'"
   ]
  },
  {
   "cell_type": "code",
   "execution_count": 66,
   "metadata": {},
   "outputs": [
    {
     "data": {
      "text/plain": [
       "'TO JEST KRZYK ROZPACZY!'"
      ]
     },
     "execution_count": 66,
     "metadata": {},
     "output_type": "execute_result"
    }
   ],
   "source": [
    "rozpacz.upper()"
   ]
  },
  {
   "cell_type": "code",
   "execution_count": 67,
   "metadata": {},
   "outputs": [
    {
     "data": {
      "text/plain": [
       "'To jest krzyk rozpaczy!'"
      ]
     },
     "execution_count": 67,
     "metadata": {},
     "output_type": "execute_result"
    }
   ],
   "source": [
    "#metoda .upper() niestety nie działa w miejscu, musimy stworzyć nową zmienną lub nadpisać starą\n",
    "rozpacz"
   ]
  },
  {
   "cell_type": "code",
   "execution_count": 68,
   "metadata": {
    "collapsed": true
   },
   "outputs": [],
   "source": [
    "prawdziwa_rozpacz = rozpacz.upper()"
   ]
  },
  {
   "cell_type": "code",
   "execution_count": 69,
   "metadata": {},
   "outputs": [
    {
     "data": {
      "text/plain": [
       "'TO JEST KRZYK ROZPACZY!'"
      ]
     },
     "execution_count": 69,
     "metadata": {},
     "output_type": "execute_result"
    }
   ],
   "source": [
    "prawdziwa_rozpacz"
   ]
  },
  {
   "cell_type": "code",
   "execution_count": 70,
   "metadata": {},
   "outputs": [
    {
     "data": {
      "text/plain": [
       "2"
      ]
     },
     "execution_count": 70,
     "metadata": {},
     "output_type": "execute_result"
    }
   ],
   "source": [
    "#Ile razy pojawia się litera o?\n",
    "rozpacz.count('o')"
   ]
  },
  {
   "cell_type": "code",
   "execution_count": 71,
   "metadata": {},
   "outputs": [
    {
     "data": {
      "text/plain": [
       "0"
      ]
     },
     "execution_count": 71,
     "metadata": {},
     "output_type": "execute_result"
    }
   ],
   "source": [
    "#Wielkość liter ma duże znaczenie w Pythonie, małe o i duże O nie są dla Pythona tym samym!\n",
    "prawdziwa_rozpacz.count('o')"
   ]
  },
  {
   "cell_type": "code",
   "execution_count": 72,
   "metadata": {},
   "outputs": [
    {
     "data": {
      "text/plain": [
       "[4.5, 2.35, 2.15, 7.5, 2.0, 8.5, 2.35, 4.0, 3.9, 2.25]"
      ]
     },
     "execution_count": 72,
     "metadata": {},
     "output_type": "execute_result"
    }
   ],
   "source": [
    "ceny"
   ]
  },
  {
   "cell_type": "code",
   "execution_count": 73,
   "metadata": {},
   "outputs": [
    {
     "data": {
      "text/plain": [
       "5"
      ]
     },
     "execution_count": 73,
     "metadata": {},
     "output_type": "execute_result"
    }
   ],
   "source": [
    "#Nie chce mi się sprawdzać na którym miejscu jest cena 8.5 - z pomocą przychodzi mi metoda .index()\n",
    "#Dostajemy informację zwrotną, że poszukiwany przez nas element jest ma numer indeksu 5.\n",
    "ceny.index(8.5)"
   ]
  },
  {
   "cell_type": "code",
   "execution_count": 74,
   "metadata": {},
   "outputs": [
    {
     "data": {
      "text/plain": [
       "8.5"
      ]
     },
     "execution_count": 74,
     "metadata": {},
     "output_type": "execute_result"
    }
   ],
   "source": [
    "#faktycznie tak jest!\n",
    "ceny[5]"
   ]
  },
  {
   "cell_type": "code",
   "execution_count": 75,
   "metadata": {},
   "outputs": [
    {
     "data": {
      "text/plain": [
       "2"
      ]
     },
     "execution_count": 75,
     "metadata": {},
     "output_type": "execute_result"
    }
   ],
   "source": [
    "#ile razy pojawia się na mojej liście cena 2.35?\n",
    "ceny.count(2.35)"
   ]
  },
  {
   "cell_type": "code",
   "execution_count": 76,
   "metadata": {
    "collapsed": true
   },
   "outputs": [],
   "source": [
    "#Metoda append - jedna z kluczowych i najczęściej używanych metod dla listy - dodawanie do końca listy wartości\n",
    "#nie dostajemy informacji zwrotnej - ta metoda działa w miejscu i nie musimy tworzyć nowej zmiennej.\n",
    "ceny.append(7.35)"
   ]
  },
  {
   "cell_type": "code",
   "execution_count": 77,
   "metadata": {},
   "outputs": [
    {
     "data": {
      "text/plain": [
       "[4.5, 2.35, 2.15, 7.5, 2.0, 8.5, 2.35, 4.0, 3.9, 2.25, 7.35]"
      ]
     },
     "execution_count": 77,
     "metadata": {},
     "output_type": "execute_result"
    }
   ],
   "source": [
    "ceny"
   ]
  },
  {
   "cell_type": "code",
   "execution_count": 78,
   "metadata": {
    "collapsed": true
   },
   "outputs": [],
   "source": [
    "#append służy przede wszystkim do doklejania pojedynczych wartosci,\n",
    "#zobaczmy co się stanie jeśli wykorzystam tę funkcję i jako argument podam listę wartości.\n",
    "ceny.append([7.35, 4.50, 5.55, 6.70])"
   ]
  },
  {
   "cell_type": "code",
   "execution_count": 79,
   "metadata": {},
   "outputs": [
    {
     "data": {
      "text/plain": [
       "[4.5,\n",
       " 2.35,\n",
       " 2.15,\n",
       " 7.5,\n",
       " 2.0,\n",
       " 8.5,\n",
       " 2.35,\n",
       " 4.0,\n",
       " 3.9,\n",
       " 2.25,\n",
       " 7.35,\n",
       " [7.35, 4.5, 5.55, 6.7]]"
      ]
     },
     "execution_count": 79,
     "metadata": {},
     "output_type": "execute_result"
    }
   ],
   "source": [
    "#Python traktuje nasz argument dosłownie, dokleja listę wartości\n",
    "ceny"
   ]
  },
  {
   "cell_type": "code",
   "execution_count": 80,
   "metadata": {},
   "outputs": [
    {
     "data": {
      "text/plain": [
       "[7.35, 4.5, 5.55, 6.7]"
      ]
     },
     "execution_count": 80,
     "metadata": {},
     "output_type": "execute_result"
    }
   ],
   "source": [
    "#Wywalamy niepotrzebną listę\n",
    "ceny.pop(-1)"
   ]
  },
  {
   "cell_type": "code",
   "execution_count": 81,
   "metadata": {},
   "outputs": [
    {
     "data": {
      "text/plain": [
       "[4.5, 2.35, 2.15, 7.5, 2.0, 8.5, 2.35, 4.0, 3.9, 2.25, 7.35]"
      ]
     },
     "execution_count": 81,
     "metadata": {},
     "output_type": "execute_result"
    }
   ],
   "source": [
    "ceny"
   ]
  },
  {
   "cell_type": "code",
   "execution_count": 82,
   "metadata": {
    "collapsed": true
   },
   "outputs": [],
   "source": [
    "#w jaki sposób możemy dodać listę wartości tak, żeby nie tworzyć listy w liście?\n",
    "#witamy się serdecznie z metodą .extend()\n",
    "ceny.extend([7.55, 4.50, 5.55, 6.70])"
   ]
  },
  {
   "cell_type": "code",
   "execution_count": 83,
   "metadata": {},
   "outputs": [
    {
     "data": {
      "text/plain": [
       "[4.5,\n",
       " 2.35,\n",
       " 2.15,\n",
       " 7.5,\n",
       " 2.0,\n",
       " 8.5,\n",
       " 2.35,\n",
       " 4.0,\n",
       " 3.9,\n",
       " 2.25,\n",
       " 7.35,\n",
       " 7.55,\n",
       " 4.5,\n",
       " 5.55,\n",
       " 6.7]"
      ]
     },
     "execution_count": 83,
     "metadata": {},
     "output_type": "execute_result"
    }
   ],
   "source": [
    "ceny"
   ]
  },
  {
   "cell_type": "code",
   "execution_count": 84,
   "metadata": {},
   "outputs": [],
   "source": [
    "# metoda .pop() pozwala na wywalenie tylko jednego elementu, jak wywalić większą liczbę elementów na raz?\n",
    "#Wywalamy 4 ostatnie elementy\n",
    "del ceny[-4:]"
   ]
  },
  {
   "cell_type": "code",
   "execution_count": 85,
   "metadata": {},
   "outputs": [
    {
     "data": {
      "text/plain": [
       "[4.5, 2.35, 2.15, 7.5, 2.0, 8.5, 2.35, 4.0, 3.9, 2.25, 7.35]"
      ]
     },
     "execution_count": 85,
     "metadata": {},
     "output_type": "execute_result"
    }
   ],
   "source": [
    "ceny"
   ]
  },
  {
   "cell_type": "code",
   "execution_count": 86,
   "metadata": {
    "collapsed": true
   },
   "outputs": [],
   "source": [
    "#metoda .pop() wywala po numerze indeksu, metoda .remove() zaś po wartości.\n",
    "#uwaga, jeśli jakaś wartość pojawia się więcej niż raz, usunięta zostanie pierwsza napotkana!\n",
    "ceny.remove(2.35)"
   ]
  },
  {
   "cell_type": "code",
   "execution_count": 87,
   "metadata": {},
   "outputs": [
    {
     "data": {
      "text/plain": [
       "[4.5, 2.15, 7.5, 2.0, 8.5, 2.35, 4.0, 3.9, 2.25, 7.35]"
      ]
     },
     "execution_count": 87,
     "metadata": {},
     "output_type": "execute_result"
    }
   ],
   "source": [
    "#wartość 2.35 pojawiała się na tej liście 2 razy, .remove() wywaliła pierwszą napotkaną wartość.\n",
    "ceny"
   ]
  },
  {
   "cell_type": "code",
   "execution_count": 88,
   "metadata": {
    "collapsed": true
   },
   "outputs": [],
   "source": [
    "#odwracanie kolejności\n",
    "ceny.reverse()"
   ]
  },
  {
   "cell_type": "code",
   "execution_count": 89,
   "metadata": {},
   "outputs": [
    {
     "data": {
      "text/plain": [
       "[7.35, 2.25, 3.9, 4.0, 2.35, 8.5, 2.0, 7.5, 2.15, 4.5]"
      ]
     },
     "execution_count": 89,
     "metadata": {},
     "output_type": "execute_result"
    }
   ],
   "source": [
    "ceny"
   ]
  },
  {
   "cell_type": "markdown",
   "metadata": {},
   "source": [
    "#### O importowaniu pakietów i funkcji słów parę"
   ]
  },
  {
   "cell_type": "code",
   "execution_count": 90,
   "metadata": {
    "collapsed": true
   },
   "outputs": [],
   "source": [
    "#żeby zaimportować wszystkie funkcje z pakietu, wpisujemy: import nazwa_pakietu\n",
    "import os"
   ]
  },
  {
   "cell_type": "code",
   "execution_count": 91,
   "metadata": {},
   "outputs": [
    {
     "data": {
      "text/plain": [
       "'/Users/Gacek/Documents/Python/Koło'"
      ]
     },
     "execution_count": 91,
     "metadata": {},
     "output_type": "execute_result"
    }
   ],
   "source": [
    "#zaimportowanie pakietu w sposób taki jak powyżej ma te wady, że:\n",
    "#a) trzeba się do niego cały czas odwoływać, czyli chcąc użyć jakiejś funkcji musimy wpisać:\n",
    "#    nazwa_pakietu.nazwa_funkcji()\n",
    "#b) ładujemy wszystkie funkcje z pakietu w sytuacji, w której nie użyjemy 99% z nich.\n",
    "\n",
    "# os.getcwd() - pokazuje obecną ścieżkę roboczą\n",
    "\n",
    "os.getcwd()"
   ]
  },
  {
   "cell_type": "code",
   "execution_count": 92,
   "metadata": {
    "collapsed": true
   },
   "outputs": [],
   "source": [
    "#drugi sposób importowania: ładowanie konkretnych funkcji z pakietów\n",
    "#wpisujemy from nazwa_pakietu import nazwa_funkcji\n",
    "\n",
    "from os import listdir"
   ]
  },
  {
   "cell_type": "code",
   "execution_count": 93,
   "metadata": {},
   "outputs": [
    {
     "data": {
      "text/plain": [
       "['.DS_Store',\n",
       " '.ipynb_checkpoints',\n",
       " '1.ipynb',\n",
       " '2_download.ipynb',\n",
       " '3_robocza.ipynb',\n",
       " 'PD2_rozw.ipynb',\n",
       " 's01_e02.ipynb',\n",
       " 's01_e02_old.ipynb',\n",
       " 's01_hw01',\n",
       " 's01_pd01',\n",
       " 's01_pd02.ipynb',\n",
       " 'S01E01.ipynb',\n",
       " 'Ściągajka.ipynb',\n",
       " 'Untitled.ipynb']"
      ]
     },
     "execution_count": 93,
     "metadata": {},
     "output_type": "execute_result"
    }
   ],
   "source": [
    "#uwaga, importując funkcję w taki sposób, nie odwołujemy się już do nazwy pakietu!\n",
    "#Nie wpisujemy zatem os.listdir(), tylko samo listdir()\n",
    "\n",
    "#listdir() - wyświetl mi pliki i foldery. Domyślnie pokazuje dla obecnej ścieżki roboczej.\n",
    "\n",
    "listdir()"
   ]
  },
  {
   "cell_type": "code",
   "execution_count": 94,
   "metadata": {},
   "outputs": [
    {
     "data": {
      "text/plain": [
       "['.DS_Store',\n",
       " '.ipynb_checkpoints',\n",
       " 'data.png',\n",
       " 'dipy_1_tests.ipynb',\n",
       " 'DTI_64_2X2X2_B1000_FOV256_2X_9',\n",
       " 'nii',\n",
       " 'test.nii.gz']"
      ]
     },
     "execution_count": 94,
     "metadata": {},
     "output_type": "execute_result"
    }
   ],
   "source": [
    "#mogę też poprosić o wyświetlenie folderów/plików dla wybranej przeze mnie ściezki:\n",
    "\n",
    "listdir('/Users/Gacek/Documents/Python/DTI')"
   ]
  },
  {
   "cell_type": "code",
   "execution_count": null,
   "metadata": {
    "collapsed": true
   },
   "outputs": [],
   "source": [
    "#ważna uwaga dla użytkowników Windowsa - ścieżka musi u Was wyglądać nieco inaczej:\n",
    "\n",
    "sciezka_windows = r'C:\\Users\\Vladimir Vladimirovich\\Photos\\KGB Party 1985'"
   ]
  },
  {
   "cell_type": "markdown",
   "metadata": {},
   "source": [
    "## Do zrobienia:\n",
    "\n",
    "#### 1. Praca domowa numer 2: Listy i Funkcje. O NumPy jeszcze nie mówiliśmy, dlatego to jest część nieobowiązkowa!\n",
    "#### a. Pracę wrzucamy na swojego Githuba, do repozytorium kp. Bardzo proszę o zachowanie oryginalnej nazwy pliku, czyli 's01_pd02.ipynb'. Deadline: 25.11! Nie trzeba mnie o tym fakcie informować, odpalę skrypt i sam sobie ściągnę co trzeba!\n",
    "#### 2. Wyzwanie 1: Łączymy się w grupki po 4 osoby i pracujemy wspólnie nad funkcją eurolotek(). Dajcie na Slacku znać jak wyglądają składy!\n",
    "#### 3. Jeśli ktoś nie ma jeszcze konta na GitHubie bądź nie dołączył do Slacka, niech zrobi to jak najszybciej. Bez GH i Slacka nie da się uczestniczyć w pracy Koła!\n",
    "#### 4. Kolejne spotkanie - 27.11 od 19:30, sala S220.\n",
    "#### 5. W razie pytań piszcie publicznie na Slacku - Zarząd chętnie dopomoże w trudnych chwilach!"
   ]
  },
  {
   "cell_type": "code",
   "execution_count": null,
   "metadata": {
    "collapsed": true
   },
   "outputs": [],
   "source": []
  }
 ],
 "metadata": {
  "kernelspec": {
   "display_name": "Python 3",
   "language": "python",
   "name": "python3"
  },
  "language_info": {
   "codemirror_mode": {
    "name": "ipython",
    "version": 3
   },
   "file_extension": ".py",
   "mimetype": "text/x-python",
   "name": "python",
   "nbconvert_exporter": "python",
   "pygments_lexer": "ipython3",
   "version": "3.6.1"
  }
 },
 "nbformat": 4,
 "nbformat_minor": 2
}
